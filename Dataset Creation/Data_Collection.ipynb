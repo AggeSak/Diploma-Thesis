{
 "cells": [
  {
   "cell_type": "markdown",
   "metadata": {},
   "source": [
    "In this document, it is described the process of acquiring a dataset, applying filters to retain only the relevant files, categorizing the data, and ultimately converting it into both grayscale and RGB images.\n",
    "\n",
    "Firstly it was selected the VirusShare website to collect malware samples, focusing specifically on Windows executable files. For the benign samples, i collected them from a Windows operating system.\n",
    "\n",
    "To classify the malware VirusTotal API was used. So i created grayscale images based on the methodology described in [this paper]. Finally, to enhance the efficiency of the  algorithms, i transformed the grayscale images into RGB format using convolutional autoencoders."
   ]
  },
  {
   "cell_type": "markdown",
   "metadata": {},
   "source": [
    "#VirusTotal API\n",
    "\n"
   ]
  },
  {
   "cell_type": "code",
   "execution_count": null,
   "metadata": {
    "vscode": {
     "languageId": "plaintext"
    }
   },
   "outputs": [],
   "source": [
    "#I collect only the information that are usefull for this project.VirusTotal provides more information"
   ]
  },
  {
   "cell_type": "markdown",
   "metadata": {},
   "source": [
    "#Turn Windows Executables to Grayscale Images"
   ]
  },
  {
   "cell_type": "code",
   "execution_count": null,
   "metadata": {
    "vscode": {
     "languageId": "plaintext"
    }
   },
   "outputs": [],
   "source": [
    "import numpy as np\n",
    "import cv2\n",
    "import struct\n",
    "import os\n",
    "import shutil\n",
    "\n",
    "# Dictionary to store statistics for each category of sizes\n",
    "size_stats = {\n",
    "    \"Less than 10KB\": [],\n",
    "    \"10-30KB\": [],\n",
    "    \"30-60KB\": [],\n",
    "    \"60-100KB\": [],\n",
    "    \"100-200KB\": [],\n",
    "    \"200-500KB\": [],\n",
    "    \"500-1000KB\": [],\n",
    "    \"Greater than or equal to 1000KB\": []\n",
    "}\n",
    "\n",
    "def process_image(input_file_name):\n",
    "    global size_stats\n",
    "    \n",
    "    # Read the whole file to data\n",
    "    with open(input_file_name, 'rb') as binary_file:        \n",
    "        data = binary_file.read()\n",
    "\n",
    "    # Convert data to NumPy array\n",
    "    d = np.frombuffer(data, dtype=np.uint8)\n",
    "\n",
    "    # Data length in bytes\n",
    "    data_len = len(data)\n",
    "\n",
    "    # Determine image width based on file size range\n",
    "    if data_len < 10 * 1024:  # Less than 10KB\n",
    "        width = 32\n",
    "        size_category = \"Less than 10KB\"\n",
    "    elif 10 * 1024 <= data_len < 30 * 1024:  # 10-30KB\n",
    "        width = 64\n",
    "        size_category = \"10-30KB\"\n",
    "    elif 30 * 1024 <= data_len < 60 * 1024:  # 30-60KB\n",
    "        width = 128\n",
    "        size_category = \"30-60KB\"\n",
    "    elif 60 * 1024 <= data_len < 100 * 1024:  # 60-100KB\n",
    "        width = 256\n",
    "        size_category = \"60-100KB\"\n",
    "    elif 100 * 1024 <= data_len < 200 * 1024:  # 100-200KB\n",
    "        width = 384\n",
    "        size_category = \"100-200KB\"\n",
    "    elif 200 * 1024 <= data_len < 500 * 1024:  # 200-500KB\n",
    "        width = 512\n",
    "        size_category = \"200-500KB\"\n",
    "    elif 500 * 1024 <= data_len < 1000 * 1024:  # 500-1000KB\n",
    "        width = 768\n",
    "        size_category = \"500-1000KB\"\n",
    "    else:  # Greater than or equal to 1000KB\n",
    "        width = 1024\n",
    "        size_category = \"Greater than or equal to 1000KB\"\n",
    "\n",
    "    # Calculate height based on the width and data length\n",
    "    height = int(np.ceil(data_len / width))\n",
    "\n",
    "    # Calculate the number of elements needed to pad the array to match the desired size\n",
    "    num_pad_elements = width * height - data_len\n",
    "\n",
    "    # Pad the array with zeros if necessary\n",
    "    if num_pad_elements > 0:\n",
    "        d = np.concatenate((d, np.zeros(num_pad_elements, dtype=np.uint8)))\n",
    "\n",
    "    # Reshape data into 2D array with width as specified and height as calculated\n",
    "    im = np.reshape(d, (height, width))\n",
    "\n",
    "    # Create the image\n",
    "    canvas = im.astype(np.uint8)\n",
    "\n",
    "    # Save the image\n",
    "    output_file_name = os.path.join(output_folder, os.path.basename(os.path.splitext(input_file_name)[0] + '_processed.png'))\n",
    "    cv2.imwrite(output_file_name, canvas)\n",
    "\n",
    "    # Update size stats\n",
    "    size_stats[size_category].append((width, height))\n",
    "\n",
    "    print(f\"Processed: {input_file_name} -> {output_file_name}\")\n",
    "    return canvas, output_file_name\n",
    "\n",
    "\n",
    "# Specify the path to the folder containing the PE files\n",
    "folder_path = r\"C:\\Users\\User\\Desktop\\Diploma\\Executables\"  # Use raw string to prevent escape sequences\n",
    "\n",
    "# Specify the output directory\n",
    "output_folder = r\"C:\\Users\\User\\Desktop\\Diploma\\Images\"  # Use raw string to prevent escape sequences\n",
    "\n",
    "\n",
    "# Create the output directory if it doesn't exist\n",
    "if not os.path.exists(output_folder):\n",
    "    os.makedirs(output_folder)\n",
    "\n",
    "# Iterate over all files in the folder and process each image\n",
    "for root, dirs, files in os.walk(folder_path):\n",
    "    for file in files:\n",
    "        file_path = os.path.join(root, file)\n",
    "        # Process the image\n",
    "        im_resized, output_file_name = process_image(file_path)\n",
    "        # Move the processed image to the output directory\n",
    "        shutil.move(output_file_name, os.path.join(output_folder, os.path.basename(output_file_name)))\n",
    "        print(f\"Moved: {output_file_name} -> {os.path.join(output_folder, os.path.basename(output_file_name))}\")\n",
    "\n",
    "# Print statistics\n",
    "print(\"Size Statistics:\")\n",
    "for category, sizes in size_stats.items():\n",
    "    num_images = len(sizes)\n",
    "    if num_images > 0:\n",
    "        avg_width = sum(size[0] for size in sizes) / num_images\n",
    "        avg_height = sum(size[1] for size in sizes) / num_images\n",
    "        print(f\"{category}: {num_images} images, Avg Width: {avg_width:.2f}, Avg Height: {avg_height:.2f}\")\n",
    "    else:\n",
    "        print(f\"{category}: No images processed\")"
   ]
  }
 ],
 "metadata": {
  "language_info": {
   "name": "python"
  }
 },
 "nbformat": 4,
 "nbformat_minor": 2
}
